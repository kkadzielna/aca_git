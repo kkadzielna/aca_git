{
 "cells": [
  {
   "cell_type": "markdown",
   "metadata": {},
   "source": [
    "### Useful links\n",
    "\n",
    "benchmarks and evaluating performance: https://courses.cs.duke.edu/cps220/fall01/lectures/lect02-2up.pdf\n",
    "\n",
    "python CPU simulation example: https://www.youtube.com/watch?v=XxUIFW-KvAU\n",
    "\n"
   ]
  },
  {
   "cell_type": "markdown",
   "metadata": {},
   "source": [
    "### Instruction set\n",
    "\n",
    "+ LOAD \n",
    "    + RF[r] = MEM[ RF[s1] + RF[s2] ]; *PC++;\n",
    "+ STORE\n",
    "    + MEM[ RF[s1] + RF[s2] ] = RF[r]; *PC++;\n",
    "+ ADD\n",
    "    + RF[r] = RF[s1] + RF[s2]; *PC++;\n",
    "+ MUL\n",
    "    + RF[r] = RF[s1] * RF[s2]; *PC++;\n",
    "+ AND\n",
    "    + if (RF[s1] and RF[s2]) RF[r] = True; else RF[r] = False; *PC++;\n",
    "+ OR\n",
    "    + if (RF[s1] or RF[s2]) RF[r] = True; else RF[r] = False; *PC++;\n",
    "+ JUMP\n",
    "    + *PC = target_addr;\n",
    "+ BRANCH_LT\n",
    "    + if (RF[s1] < RF[s2]) *PC = target_addr; else *PC++;\n",
    "+ BRANCH_ZERO\n",
    "    + if (RF[s1] == 0) *PC = target_addr; else *PC++;\n",
    "+ BRANCH_MT\n",
    "    + if (RF[s1] > RF[s2]) *PC = target_addr; else *PC++;\n",
    "+ STOP\n",
    "    + *finished = 1;"
   ]
  },
  {
   "cell_type": "code",
   "execution_count": null,
   "metadata": {},
   "outputs": [],
   "source": []
  },
  {
   "cell_type": "markdown",
   "metadata": {},
   "source": [
    "### Benchmarks\n",
    "\n",
    "Benchmark kernels are used to demonstrate that certain performance-enhancing features of your processor’s architecture are working – for example you can demonstrate superscalar instruction issue or improved branching performance with the addition of a branch prediction mechanism. \n",
    "\n",
    "Write several short benchmark programs using your instruction set. Use a suite of kernels that are representative of real-life workloads. A basic example would be a loop to perform vector addition.\n",
    "\n",
    "\n",
    "As such, one can check that various arithmetic, memory access and control-flow instructions work individually and in composition, and also evaluate performance based on how quickly the kernel is executed. Further kernels can be constructed by targeting specific features in the processor, or by using using existing examples such as\n",
    "+ standard kernels (e.g., the so-called “Livermore Loops” [1]),\n",
    "+ sorting algorithms (e.g., bubble sort or quick sort),\n",
    "+ numerical algorithms (e.g., GCD or Hamming weight),\n",
    "+ recursive algorithms (e.g., factorial)."
   ]
  },
  {
   "cell_type": "markdown",
   "metadata": {},
   "source": [
    "#### Arithmetic instructions benchmarks\n",
    "+ addition\n",
    "+ multiplication"
   ]
  },
  {
   "cell_type": "code",
   "execution_count": null,
   "metadata": {},
   "outputs": [],
   "source": [
    "#add\n",
    "c = a + b\n",
    "#LOAD R1, A\n",
    "#LOAD R2, B\n",
    "#ADD R3, R1, R2\n",
    "#STORE R3, C\n",
    "\n",
    "\n",
    "#mul\n",
    "c = a * b\n",
    "#LOAD R1, A\n",
    "#LOAD R2, B\n",
    "#MUL R3, R1, R2\n",
    "#STORE R3, C"
   ]
  },
  {
   "cell_type": "markdown",
   "metadata": {},
   "source": [
    "#### Control-flow instructions benchmarks\n",
    "+ if else statement\n",
    "+ case switch statement\n",
    "+ while loop\n",
    "+ for loop"
   ]
  },
  {
   "cell_type": "code",
   "execution_count": null,
   "metadata": {},
   "outputs": [],
   "source": [
    "#if else\n",
    "if x == 1:\n",
    "    y = 1\n",
    "else if x == 2:\n",
    "    y = 2\n",
    "else:\n",
    "    y = 0"
   ]
  },
  {
   "cell_type": "markdown",
   "metadata": {},
   "source": [
    "#### Memory access instructions benchmarks"
   ]
  },
  {
   "cell_type": "code",
   "execution_count": null,
   "metadata": {},
   "outputs": [],
   "source": []
  }
 ],
 "metadata": {
  "language_info": {
   "name": "python"
  },
  "orig_nbformat": 4
 },
 "nbformat": 4,
 "nbformat_minor": 2
}
